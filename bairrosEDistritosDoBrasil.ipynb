{
  "nbformat": 4,
  "nbformat_minor": 0,
  "metadata": {
    "colab": {
      "provenance": [],
      "authorship_tag": "ABX9TyMgozHXF7qqZvkNJBneCMuw",
      "include_colab_link": true
    },
    "kernelspec": {
      "name": "python3",
      "display_name": "Python 3"
    },
    "language_info": {
      "name": "python"
    }
  },
  "cells": [
    {
      "cell_type": "markdown",
      "metadata": {
        "id": "view-in-github",
        "colab_type": "text"
      },
      "source": [
        "<a href=\"https://colab.research.google.com/github/itallonardi/bairrosEDistritosdoBrasil/blob/main/bairrosEDistritosDoBrasil.ipynb\" target=\"_parent\"><img src=\"https://colab.research.google.com/assets/colab-badge.svg\" alt=\"Open In Colab\"/></a>"
      ]
    },
    {
      "cell_type": "markdown",
      "source": [
        "# Extração de dados para criação de datasets de bairros, distritos e povoados do Brasil\n",
        "\n",
        "Este notebook realiza a coleta de dados de bairros, distritos e povoados do Brasil utilizando uma abordagem combinada entre a API do IBGE e OpenStreetMap, e bibliotecas de geoprocessamento como `osmnx` e `geopandas` para driblar a falta de dados oficiais de qualidade para bairros, distritos e povoados dos municípios brasileiros.\n",
        "\n",
        "## Entendendo o problema\n",
        "\n",
        "Uma extração de dados utilizando a API do SIDRA, do IBGE, retorna cerca de 14.320 bairros e distritos para um total de 5.570 municípios. Ou seja, apenas 2,57 bairros por cidade. Esta abordagem mista, por outro lado, conseguiu extrair um número significativamente maior de bairros, povoados e distritos, totalizando 46.350 bairros, povoados e distritos (uma média de 8,32 bairros por municípios, 3,23x mais que o retornado pela API SIDRA), proporcionando uma visão mais abrangente das áreas urbanas e rurais no Brasil."
      ],
      "metadata": {
        "id": "R8aDIQ4TnFOv"
      }
    },
    {
      "cell_type": "markdown",
      "source": [
        "### Instalando as bibliotecas osmnx e geopandas:"
      ],
      "metadata": {
        "id": "QYXK3beq-UPx"
      }
    },
    {
      "cell_type": "code",
      "source": [
        "pip install osmnx geopandas requests pandas"
      ],
      "metadata": {
        "id": "ko2fzM2p9FXR",
        "colab": {
          "base_uri": "https://localhost:8080/"
        },
        "outputId": "53cccf92-6173-4931-8b57-107c1ca168d8"
      },
      "execution_count": 1,
      "outputs": [
        {
          "output_type": "stream",
          "name": "stdout",
          "text": [
            "Collecting osmnx\n",
            "  Downloading osmnx-1.9.3-py3-none-any.whl (107 kB)\n",
            "\u001b[?25l     \u001b[90m━━━━━━━━━━━━━━━━━━━━━━━━━━━━━━━━━━━━━━━━\u001b[0m \u001b[32m0.0/107.2 kB\u001b[0m \u001b[31m?\u001b[0m eta \u001b[36m-:--:--\u001b[0m\r\u001b[2K     \u001b[90m━━━━━━━━━━━━━━━━━━━━━━━━━━━━━━━━━━━━━━━━\u001b[0m \u001b[32m107.2/107.2 kB\u001b[0m \u001b[31m3.6 MB/s\u001b[0m eta \u001b[36m0:00:00\u001b[0m\n",
            "\u001b[?25hRequirement already satisfied: geopandas in /usr/local/lib/python3.10/dist-packages (0.13.2)\n",
            "Requirement already satisfied: requests in /usr/local/lib/python3.10/dist-packages (2.31.0)\n",
            "Requirement already satisfied: pandas in /usr/local/lib/python3.10/dist-packages (2.0.3)\n",
            "Requirement already satisfied: networkx>=2.5 in /usr/local/lib/python3.10/dist-packages (from osmnx) (3.3)\n",
            "Requirement already satisfied: numpy>=1.20 in /usr/local/lib/python3.10/dist-packages (from osmnx) (1.25.2)\n",
            "Requirement already satisfied: shapely>=2.0 in /usr/local/lib/python3.10/dist-packages (from osmnx) (2.0.4)\n",
            "Requirement already satisfied: fiona>=1.8.19 in /usr/local/lib/python3.10/dist-packages (from geopandas) (1.9.6)\n",
            "Requirement already satisfied: packaging in /usr/local/lib/python3.10/dist-packages (from geopandas) (24.1)\n",
            "Requirement already satisfied: pyproj>=3.0.1 in /usr/local/lib/python3.10/dist-packages (from geopandas) (3.6.1)\n",
            "Requirement already satisfied: charset-normalizer<4,>=2 in /usr/local/lib/python3.10/dist-packages (from requests) (3.3.2)\n",
            "Requirement already satisfied: idna<4,>=2.5 in /usr/local/lib/python3.10/dist-packages (from requests) (3.7)\n",
            "Requirement already satisfied: urllib3<3,>=1.21.1 in /usr/local/lib/python3.10/dist-packages (from requests) (2.0.7)\n",
            "Requirement already satisfied: certifi>=2017.4.17 in /usr/local/lib/python3.10/dist-packages (from requests) (2024.6.2)\n",
            "Requirement already satisfied: python-dateutil>=2.8.2 in /usr/local/lib/python3.10/dist-packages (from pandas) (2.8.2)\n",
            "Requirement already satisfied: pytz>=2020.1 in /usr/local/lib/python3.10/dist-packages (from pandas) (2023.4)\n",
            "Requirement already satisfied: tzdata>=2022.1 in /usr/local/lib/python3.10/dist-packages (from pandas) (2024.1)\n",
            "Requirement already satisfied: attrs>=19.2.0 in /usr/local/lib/python3.10/dist-packages (from fiona>=1.8.19->geopandas) (23.2.0)\n",
            "Requirement already satisfied: click~=8.0 in /usr/local/lib/python3.10/dist-packages (from fiona>=1.8.19->geopandas) (8.1.7)\n",
            "Requirement already satisfied: click-plugins>=1.0 in /usr/local/lib/python3.10/dist-packages (from fiona>=1.8.19->geopandas) (1.1.1)\n",
            "Requirement already satisfied: cligj>=0.5 in /usr/local/lib/python3.10/dist-packages (from fiona>=1.8.19->geopandas) (0.7.2)\n",
            "Requirement already satisfied: six in /usr/local/lib/python3.10/dist-packages (from fiona>=1.8.19->geopandas) (1.16.0)\n",
            "Installing collected packages: osmnx\n",
            "Successfully installed osmnx-1.9.3\n"
          ]
        }
      ]
    },
    {
      "cell_type": "markdown",
      "source": [
        "### Importação e configuração:"
      ],
      "metadata": {
        "id": "9MpVoYo7-hCB"
      }
    },
    {
      "cell_type": "code",
      "source": [
        "import osmnx as ox\n",
        "import geopandas as gpd\n",
        "import requests\n",
        "import pandas as pd\n",
        "import os\n",
        "\n",
        "ox.settings.use_cache = False\n",
        "ox.settings.log_console = False"
      ],
      "metadata": {
        "id": "aM9M9HPp-bbB"
      },
      "execution_count": 2,
      "outputs": []
    },
    {
      "cell_type": "markdown",
      "source": [
        "### Definição das Constantes e Funções Auxiliares:\n",
        "Aqui temos a definição dos estados brasileiros e do Distrito Federal, além das fuções para obter as cidades, cidades por estado, bairros, distritos e povoados e, adicionalmente, uma consulta a tabela de dados agregados do IBGE (série 2010, a mais recente) para determinar o percentual de pessoas residentes na zona urbana e o percentual residente na zona rural."
      ],
      "metadata": {
        "id": "qUNnY6hx-lv8"
      }
    },
    {
      "cell_type": "code",
      "source": [
        "VALID_UFS = [\n",
        "    'AC', 'AL', 'AM', 'AP', 'BA', 'CE', 'DF', 'ES', 'GO', 'MA', 'MG', 'MS', 'MT', 'PA', 'PB', 'PE', 'PI', 'PR', 'RJ', 'RN', 'RO', 'RR', 'RS', 'SC', 'SE', 'SP', 'TO'\n",
        "]\n",
        "\n",
        "\n",
        "def get_all_cities():\n",
        "    url = \"https://servicodados.ibge.gov.br/api/v1/localidades/municipios\"\n",
        "    try:\n",
        "        response = requests.get(url)\n",
        "        response.raise_for_status()\n",
        "        return response.json()\n",
        "    except requests.RequestException as e:\n",
        "        print(f\"Erro na requisição: {e}\")\n",
        "        return None\n",
        "\n",
        "\n",
        "def get_population_data(city_code, city, state):\n",
        "    url = f\"https://servicodados.ibge.gov.br/api/v3/agregados/761/periodos/-6/variaveis/1000093?localidades=N6[{city_code}]&classificacao=387[9693,9695]\"\n",
        "    try:\n",
        "        response = requests.get(url)\n",
        "        response.raise_for_status()\n",
        "        data = response.json()\n",
        "        urban_percentage = rural_percentage = None\n",
        "        for result in data[0]['resultados']:\n",
        "            for series in result['series']:\n",
        "                if \"9693\" in result['classificacoes'][0]['categoria']:\n",
        "                    urban_percentage = series['serie'].get('2010')\n",
        "                if \"9695\" in result['classificacoes'][0]['categoria']:\n",
        "                    rural_percentage = series['serie'].get('2010')\n",
        "        print(f\"Informaçẽs de proporção rural/urbana da população obtidas para {city}, {state}: {urban_percentage}% em zona urbana, {rural_percentage}% em zona rural.\")\n",
        "        return urban_percentage, rural_percentage\n",
        "    except requests.RequestException as e:\n",
        "        print(f\"Erro na requisição: {e}\")\n",
        "        return None, None\n",
        "\n",
        "\n",
        "def get_neighborhoods(query):\n",
        "    try:\n",
        "        neighborhoods = ox.features_from_place(query, tags={'place': 'suburb'})\n",
        "        if neighborhoods.empty:\n",
        "            print(f\"Nenhum bairro encontrado para {query}\")\n",
        "            return gpd.GeoDataFrame()\n",
        "        print(f\"Bairros obtidos para {query}:\\n{neighborhoods}\")\n",
        "        return neighborhoods\n",
        "    except (TypeError, ox._errors.InsufficientResponseError) as e:\n",
        "        print(f\"Erro ao obter bairros para {query}: {e}\")\n",
        "        return gpd.GeoDataFrame()\n",
        "\n",
        "\n",
        "def get_villages(query):\n",
        "    try:\n",
        "        villages = ox.features_from_place(query, tags={'place': ['village']})\n",
        "        if villages.empty:\n",
        "            print(f\"Nenhum povoado encontrado para {query}\")\n",
        "            return gpd.GeoDataFrame()\n",
        "        print(f\"Povoados e/ou distritos obtidos para {query}:\\n{villages}\")\n",
        "        return villages\n",
        "    except (TypeError, ox._errors.InsufficientResponseError) as e:\n",
        "        print(f\"Erro ao obter povoados para {query}: {e}\")\n",
        "        return gpd.GeoDataFrame()\n",
        "\n",
        "\n",
        "def get_filtered_cities(cities_data, state_filter, city_filter):\n",
        "    filtered_cities = []\n",
        "    for city_info in cities_data:\n",
        "        state = city_info['microrregiao']['mesorregiao']['UF']['sigla']\n",
        "        city = city_info['nome']\n",
        "\n",
        "        if (state_filter == '*' or state.lower() == state_filter.lower()) and \\\n",
        "           (city_filter == '*' or city.lower() == city_filter.lower()):\n",
        "            filtered_cities.append(city_info)\n",
        "\n",
        "    return filtered_cities\n",
        "\n",
        "def combine_all_state_files(output_dir='csv'):\n",
        "    import glob\n",
        "    import pandas as pd\n",
        "\n",
        "    all_csv_files = glob.glob(os.path.join(output_dir, '*.csv'))\n",
        "\n",
        "    if not all_csv_files:\n",
        "        print(\"Nenhum arquivo CSV encontrado para combinar.\")\n",
        "        return\n",
        "\n",
        "\n",
        "    combined_df = pd.concat([pd.read_csv(file) for file in all_csv_files])\n",
        "\n",
        "    combined_output_file = os.path.join(output_dir, 'data_BR_*.csv')\n",
        "    combined_df.to_csv(combined_output_file, index=False)\n",
        "    print(f\"Arquivo combinado para todo o Brasil salvo em {combined_output_file}\")"
      ],
      "metadata": {
        "id": "3D7ez7cs-qXV"
      },
      "execution_count": 4,
      "outputs": []
    },
    {
      "cell_type": "markdown",
      "source": [
        "### Função de Processamento e Função Principal"
      ],
      "metadata": {
        "id": "jv5uJfpQ_3j-"
      }
    },
    {
      "cell_type": "code",
      "source": [
        "def process_state_and_city(state_filter, city_filter):\n",
        "    cities_data = get_all_cities()\n",
        "    if not cities_data:\n",
        "        print(\"Erro ao obter dados das cidades.\")\n",
        "        return\n",
        "\n",
        "    filtered_cities = get_filtered_cities(\n",
        "        cities_data, state_filter, city_filter)\n",
        "    data_list = []\n",
        "\n",
        "    for city_info in filtered_cities:\n",
        "        city = city_info['nome']\n",
        "        state = city_info['microrregiao']['mesorregiao']['UF']['sigla']\n",
        "        city_code = city_info['id']\n",
        "\n",
        "        urban_percentage, rural_percentage = get_population_data(\n",
        "            city_code, city, state)\n",
        "\n",
        "        if state.lower() == 'df':\n",
        "            query = 'Distrito Federal, Brazil'\n",
        "        else:\n",
        "            query = f\"{city}, {state}, Brazil\"\n",
        "\n",
        "        neighborhoods = get_neighborhoods(query)\n",
        "        villages = get_villages(query)\n",
        "\n",
        "        if neighborhoods.empty and villages.empty:\n",
        "            print(f\"Sem dados de bairros ou povoados para {city}, {state}.\")\n",
        "            continue\n",
        "\n",
        "        if not neighborhoods.empty:\n",
        "            for idx, row in neighborhoods.iterrows():\n",
        "                location_name = row['name'] if 'name' in row and row['name'] else 'Não identificado'\n",
        "                data_list.append({\n",
        "                    'city': city,\n",
        "                    'state': state,\n",
        "                    'urban_population': urban_percentage,\n",
        "                    'rural_population': rural_percentage,\n",
        "                    'location_name': location_name,\n",
        "                    'type': 'neighborhood',\n",
        "                    'geometry': row['geometry'].wkt\n",
        "                })\n",
        "\n",
        "        if not villages.empty:\n",
        "            for idx, row in villages.iterrows():\n",
        "                location_name = row['name'] if 'name' in row and row['name'] else 'Não identificado'\n",
        "                data_list.append({\n",
        "                    'city': city,\n",
        "                    'state': state,\n",
        "                    'urban_population': urban_percentage,\n",
        "                    'rural_population': rural_percentage,\n",
        "                    'location_name': location_name,\n",
        "                    'type': 'district',\n",
        "                    'geometry': row['geometry'].wkt\n",
        "                })\n",
        "\n",
        "    df = pd.DataFrame(data_list)\n",
        "\n",
        "    output_dir = 'csv'\n",
        "    os.makedirs(output_dir, exist_ok=True)\n",
        "\n",
        "    output_file = os.path.join(output_dir, f\"data_BR_{state_filter}_{city_filter}.csv\")\n",
        "\n",
        "    df.to_csv(output_file, index=False)\n",
        "    print(f\"Dados salvos em {output_file}\")\n",
        "    return output_file\n",
        "\n",
        "\n",
        "def main(state_filter='*', city_filter='*'):\n",
        "    if state_filter == '*':\n",
        "        all_files = []\n",
        "        for idx, state in enumerate(VALID_UFS, start=1):\n",
        "            print(f\"Processando o estado {idx} de {len(VALID_UFS)}: {state}\")\n",
        "            output_file = process_state_and_city(state, city_filter)\n",
        "            all_files.append(output_file)\n",
        "\n",
        "        combine_all_state_files()\n",
        "    else:\n",
        "        process_state_and_city(state_filter, city_filter)"
      ],
      "metadata": {
        "id": "oBj3t9XiAMYS"
      },
      "execution_count": null,
      "outputs": []
    },
    {
      "cell_type": "markdown",
      "source": [
        "### Funções para Entrada do Usuário"
      ],
      "metadata": {
        "id": "r4dz8suaAQM5"
      }
    },
    {
      "cell_type": "code",
      "source": [
        "def get_valid_uf():\n",
        "    while True:\n",
        "        uf = input(\"Digite a sigla do estado (ou * para todos): \").strip().upper()\n",
        "        if uf in VALID_UFS or uf == '*':\n",
        "            return uf\n",
        "        else:\n",
        "            print(\"UF inválida. Digite uma sigla válida ou * para todos.\")\n",
        "\n",
        "\n",
        "def get_valid_city(state_filter):\n",
        "    if state_filter.lower() == 'df':\n",
        "        return '*'\n",
        "    while True:\n",
        "        city = input(\"Digite o nome da cidade (ou * para todas): \").strip()\n",
        "        if city:\n",
        "            return city\n",
        "        else:\n",
        "            print(\"Nome da cidade não pode ser vazio.\")"
      ],
      "metadata": {
        "id": "PxY2y8AhAUrf"
      },
      "execution_count": null,
      "outputs": []
    },
    {
      "cell_type": "markdown",
      "source": [
        "\n",
        "\n",
        "### Execução do Script\n",
        "\n",
        "Neste ponto, a execução do script irá solicitar que você forneça uma UF para extrair os dados. Você pode especificar * (asterisco) para obter todas. Isso irá obter dados de todos os estados e municípios do Brasil, estado a estado, incluindo a geração de um arquivo csv (dentro da pasta csv) para cada estado e um arquivo csv com dados de todo o Brasil.\n",
        "\n",
        "Se, em vez disso, você informar uma UF, então um novo input surgirá solicitando o nome da cidade. Aqui, outra vez, você pode informar *, neste caso, para todas as cidades do respectivo estado que você selecionou anteriormente, ou especificando o nome da cidade que você deseja.\n",
        "\n",
        "Os datasets gerados serão salvos na pasta `csv` com o padrão de nomenclatura `data_BR_UF_cidade.csv`, onde `UF` e `cidade` podem ser substituídos pela sigla do estado e o nome da cidade, respectivamente, ou `*` representando todos. Por exemplo:\n",
        "- `data_BR_BA_*.csv` (todas as cidades da Bahia)\n",
        "- `data_BR_*.csv` (todos os estados e cidades do Brasil)"
      ],
      "metadata": {
        "id": "-dPhO1D1AezI"
      }
    },
    {
      "cell_type": "code",
      "source": [
        "state_filter = get_valid_uf()\n",
        "city_filter = get_valid_city(state_filter)\n",
        "\n",
        "main(state_filter, city_filter)"
      ],
      "metadata": {
        "id": "bolwnqBbAhxd"
      },
      "execution_count": null,
      "outputs": []
    },
    {
      "cell_type": "markdown",
      "source": [
        "### Execução do Script\n",
        "\n",
        "Se desejar criar um arquivo único para todo o Brasil, execute o código abaixo:"
      ],
      "metadata": {
        "id": "rwdlaTpicGUD"
      }
    },
    {
      "cell_type": "code",
      "source": [
        "combine_all_state_files()"
      ],
      "metadata": {
        "colab": {
          "base_uri": "https://localhost:8080/"
        },
        "id": "JClYsiXocRBr",
        "outputId": "11023bb2-89d9-4223-f848-b76bfa7cd546"
      },
      "execution_count": 5,
      "outputs": [
        {
          "output_type": "stream",
          "name": "stdout",
          "text": [
            "Arquivo combinado para todo o Brasil salvo em csv/data_BR_*.csv\n"
          ]
        }
      ]
    }
  ]
}
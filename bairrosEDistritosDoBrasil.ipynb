{
  "nbformat": 4,
  "nbformat_minor": 0,
  "metadata": {
    "colab": {
      "provenance": [],
      "authorship_tag": "ABX9TyOMVIoBHou76Q+HpTmlspFP",
      "include_colab_link": true
    },
    "kernelspec": {
      "name": "python3",
      "display_name": "Python 3"
    },
    "language_info": {
      "name": "python"
    }
  },
  "cells": [
    {
      "cell_type": "markdown",
      "metadata": {
        "id": "view-in-github",
        "colab_type": "text"
      },
      "source": [
        "<a href=\"https://colab.research.google.com/github/itallonardi/bairrosEDistritosdoBrasil/blob/main/bairrosEDistritosDoBrasil.ipynb\" target=\"_parent\"><img src=\"https://colab.research.google.com/assets/colab-badge.svg\" alt=\"Open In Colab\"/></a>"
      ]
    },
    {
      "cell_type": "markdown",
      "source": [
        "# Extração de dados para criação de datasets de bairros, distritos e povoados do Brasil\n",
        "\n",
        "Este notebook realiza a coleta de dados de bairros, distritos e povoados do Brasil utilizando uma abordagem combinada entre a API do IBGE e OpenStreetMap, e bibliotecas de geoprocessamento como `osmnx` e `geopandas` para driblar a falta de dados oficiais de qualidade para bairros, distritos e povoados dos municípios brasileiros.\n",
        "\n",
        "## Entendendo o problema\n",
        "\n",
        "Uma extração de dados utilizando a API do SIDRA, do IBGE, retorna cerca de 14.320 bairros e distritos para um total de 5.570 municípios. Ou seja, apenas 2,57 bairros por cidade. Esta abordagem mista, por outro lado, conseguiu extrair um número significativamente maior de bairros, povoados e distritos, proporcionando uma visão mais abrangente das áreas urbanas e rurais no Brasil.\n"
      ],
      "metadata": {
        "id": "R8aDIQ4TnFOv"
      }
    },
    {
      "cell_type": "markdown",
      "source": [
        "### Instalando as bibliotecas osmnx e geopandas:"
      ],
      "metadata": {
        "id": "QYXK3beq-UPx"
      }
    },
    {
      "cell_type": "code",
      "source": [
        "pip install osmnx geopandas requests pandas"
      ],
      "metadata": {
        "id": "ko2fzM2p9FXR"
      },
      "execution_count": null,
      "outputs": []
    },
    {
      "cell_type": "markdown",
      "source": [
        "### Importação e configuração:"
      ],
      "metadata": {
        "id": "9MpVoYo7-hCB"
      }
    },
    {
      "cell_type": "code",
      "source": [
        "import osmnx as ox\n",
        "import geopandas as gpd\n",
        "import requests\n",
        "import pandas as pd\n",
        "import os\n",
        "\n",
        "ox.settings.use_cache = False\n",
        "ox.settings.log_console = False"
      ],
      "metadata": {
        "id": "aM9M9HPp-bbB"
      },
      "execution_count": null,
      "outputs": []
    },
    {
      "cell_type": "markdown",
      "source": [
        "### Definição das Constantes e Funções Auxiliares:\n",
        "Aqui temos a definição dos estados brasileiros e do Distrito Federal, além das fuções para obter as cidades, cidades por estado, bairros, distritos e povoados e, adicionalmente, uma consulta a tabela de dados agregados do IBGE (série 2010, a mais recente) para determinar o percentual de pessoas residentes na zona urbana e o percentual residente na zona rural."
      ],
      "metadata": {
        "id": "qUNnY6hx-lv8"
      }
    },
    {
      "cell_type": "code",
      "source": [
        "VALID_UFS = [\n",
        "    'AC', 'AL', 'AM', 'AP', 'BA', 'CE', 'DF', 'ES', 'GO', 'MA', 'MG', 'MS', 'MT', 'PA', 'PB', 'PE', 'PI', 'PR', 'RJ', 'RN', 'RO', 'RR', 'RS', 'SC', 'SE', 'SP', 'TO'\n",
        "]\n",
        "\n",
        "def get_all_cities():\n",
        "    url = \"https://servicodados.ibge.gov.br/api/v1/localidades/municipios\"\n",
        "    try:\n",
        "        response = requests.get(url)\n",
        "        response.raise_for_status()\n",
        "        return response.json()\n",
        "    except requests.RequestException as e:\n",
        "        print(f\"Erro na requisição: {e}\")\n",
        "        return None\n",
        "\n",
        "def get_population_data(city_code, city, state):\n",
        "    url = f\"https://servicodados.ibge.gov.br/api/v3/agregados/761/periodos/-6/variaveis/1000093?localidades=N6[{city_code}]&classificacao=387[9693,9695]\"\n",
        "    try:\n",
        "        response = requests.get(url)\n",
        "        response.raise_for_status()\n",
        "        data = response.json()\n",
        "        urban_percentage = rural_percentage = None\n",
        "        for result in data[0]['resultados']:\n",
        "            for series in result['series']:\n",
        "                if \"9693\" in result['classificacoes'][0]['categoria']:\n",
        "                    urban_percentage = series['serie'].get('2010')\n",
        "                if \"9695\" in result['classificacoes'][0]['categoria']:\n",
        "                    rural_percentage = series['serie'].get('2010')\n",
        "        print(f\"Informaçẽs de proporção rural/urbana da população obtidas para {city}, {state}\")\n",
        "        return urban_percentage, rural_percentage\n",
        "    except requests.RequestException as e:\n",
        "        print(f\"Erro na requisição: {e}\")\n",
        "        return None, None\n",
        "\n",
        "def get_neighborhoods(city, state):\n",
        "    query = {'city': city, 'state': state, 'country': 'Brazil'}\n",
        "    try:\n",
        "        neighborhoods = ox.features_from_place(query, tags={'place': 'suburb'})\n",
        "        print(f\"Bairros obtidos para {city}, {state}\")\n",
        "        return neighborhoods\n",
        "    except ox._errors.InsufficientResponseError:\n",
        "        print(f\"Nenhum bairro encontrado para {city}, {state}\")\n",
        "        return gpd.GeoDataFrame()\n",
        "\n",
        "def get_villages(city, state):\n",
        "    query = {'city': city, 'state': state, 'country': 'Brazil'}\n",
        "    try:\n",
        "        villages = ox.features_from_place(query, tags={'place': ['village']})\n",
        "        print(f\"Povoados e/ou distritos obtidos para {city}, {state}\")\n",
        "        return villages\n",
        "    except ox._errors.InsufficientResponseError:\n",
        "        print(f\"Nenhum povoado encontrado para {city}, {state}\")\n",
        "        return gpd.GeoDataFrame()\n",
        "\n",
        "def get_filtered_cities(cities_data, state_filter, city_filter):\n",
        "    filtered_cities = []\n",
        "    for city_info in cities_data:\n",
        "        state = city_info['microrregiao']['mesorregiao']['UF']['sigla']\n",
        "        city = city_info['nome']\n",
        "\n",
        "        if (state_filter == '*' or state.lower() == state_filter.lower()) and \\\n",
        "           (city_filter == '*' or city.lower() == city_filter.lower()):\n",
        "            filtered_cities.append(city_info)\n",
        "\n",
        "    return filtered_cities"
      ],
      "metadata": {
        "id": "3D7ez7cs-qXV"
      },
      "execution_count": null,
      "outputs": []
    },
    {
      "cell_type": "markdown",
      "source": [
        "### Função de Processamento e Função Principal"
      ],
      "metadata": {
        "id": "jv5uJfpQ_3j-"
      }
    },
    {
      "cell_type": "code",
      "source": [
        "def process_state_and_city(state_filter, city_filter):\n",
        "    cities_data = get_all_cities()\n",
        "    if not cities_data:\n",
        "        print(\"Erro ao obter dados das cidades.\")\n",
        "        return\n",
        "\n",
        "    filtered_cities = get_filtered_cities(cities_data, state_filter, city_filter)\n",
        "    data_list = []\n",
        "\n",
        "    for city_info in filtered_cities:\n",
        "        city = city_info['nome']\n",
        "        state = city_info['microrregiao']['mesorregiao']['UF']['sigla']\n",
        "        city_code = city_info['id']\n",
        "\n",
        "        urban_percentage, rural_percentage = get_population_data(city_code, city, state)\n",
        "\n",
        "        neighborhoods = get_neighborhoods(city, state)\n",
        "        villages = get_villages(city, state)\n",
        "\n",
        "        if not neighborhoods.empty:\n",
        "            for idx, row in neighborhoods.iterrows():\n",
        "                if 'name' in row:\n",
        "                    location_name = row['name'] or 'Não identificado'\n",
        "                    data_list.append({\n",
        "                        'city': city,\n",
        "                        'state': state,\n",
        "                        'urban_population': urban_percentage,\n",
        "                        'rural_population': rural_percentage,\n",
        "                        'location_name': location_name,\n",
        "                        'type': 'neighborhood',\n",
        "                        'geometry': row['geometry'].wkt\n",
        "                    })\n",
        "\n",
        "        if not villages.empty:\n",
        "            for idx, row in villages.iterrows():\n",
        "                if 'name' in row:\n",
        "                    location_name = row['name'] or 'Não identificado'\n",
        "                    data_list.append({\n",
        "                        'city': city,\n",
        "                        'state': state,\n",
        "                        'urban_population': urban_percentage,\n",
        "                        'rural_population': rural_percentage,\n",
        "                        'location_name': location_name,\n",
        "                        'type': 'district',\n",
        "                        'geometry': row['geometry'].wkt\n",
        "                    })\n",
        "\n",
        "    df = pd.DataFrame(data_list)\n",
        "\n",
        "    output_dir = 'csv'\n",
        "    os.makedirs(output_dir, exist_ok=True)\n",
        "\n",
        "    output_file = os.path.join(output_dir, f\"data_BR_{state_filter}_{city_filter}.csv\")\n",
        "\n",
        "    df.to_csv(output_file, index=False)\n",
        "    print(f\"Dados salvos em {output_file}\")\n",
        "    return output_file\n",
        "\n",
        "def main(state_filter='*', city_filter='*'):\n",
        "    if state_filter == '*':\n",
        "        all_files = []\n",
        "        for idx, state in enumerate(VALID_UFS, start=1):\n",
        "            print(f\"Processando o estado {idx} de {len(VALID_UFS)}: {state}\")\n",
        "            output_file = process_state_and_city(state, city_filter)\n",
        "            all_files.append(output_file)\n",
        "\n",
        "        # Combine all csv files\n",
        "        combined_df = pd.concat([pd.read_csv(f) for f in all_files])\n",
        "        combined_output_file = os.path.join('csv', f\"data_BR_{state_filter}_{city_filter}.csv\")\n",
        "        combined_df.to_csv(combined_output_file, index=False)\n",
        "        print(f\"Arquivo combinado salvo em {combined_output_file}\")\n",
        "    else:\n",
        "        process_state_and_city(state_filter, city_filter)"
      ],
      "metadata": {
        "id": "oBj3t9XiAMYS"
      },
      "execution_count": null,
      "outputs": []
    },
    {
      "cell_type": "markdown",
      "source": [
        "### Funções para Entrada do Usuário"
      ],
      "metadata": {
        "id": "r4dz8suaAQM5"
      }
    },
    {
      "cell_type": "code",
      "source": [
        "def get_valid_uf():\n",
        "    while True:\n",
        "        uf = input(\"Digite a sigla do estado (ou * para todos): \").strip().upper()\n",
        "        if uf in VALID_UFS or uf == '*':\n",
        "            return uf\n",
        "        else:\n",
        "            print(\"UF inválida. Digite uma sigla válida ou * para todos.\")\n",
        "\n",
        "def get_valid_city():\n",
        "    while True:\n",
        "        city = input(\"Digite o nome da cidade (ou * para todas): \").strip()\n",
        "        if city:\n",
        "            return city\n",
        "        else:\n",
        "            print(\"Nome da cidade não pode ser vazio.\")"
      ],
      "metadata": {
        "id": "PxY2y8AhAUrf"
      },
      "execution_count": null,
      "outputs": []
    },
    {
      "cell_type": "markdown",
      "source": [
        "### Execução do Script\n",
        "\n",
        "Neste ponto, a execução do script irá solicitar que você forneça uma UF para extrair os dados. Você pode especificar * (asterisco) para obter todas. Isso irá obter dados de todos os estados e municípios do Brasil, estado a estado, incluindo a geração de um arquivo csv (dentro da pasta csv) para cada estado e um arquivo csv com dados de todo o Brasil.\n",
        "\n",
        "Se, em vez disso, você informar uma UF, então um novo input surgirá solicitando o nome da cidade. Aqui, outra vez, você pode informar *, neste caso, para todas as cidades do respectivo estado que você selecionou anteriormente, ou especificando o nome da cidade que você deseja.\n",
        "\n",
        "Os datasets gerados serão salvos na pasta `csv` com o padrão de nomenclatura `data_BR_UF_cidade.csv`, onde `UF` e `cidade` podem ser substituídos pela sigla do estado e o nome da cidade, respectivamente, ou `*` representando todos. Por exemplo:\n",
        "- `data_BR_BA_*.csv` (todas as cidades da Bahia)\n",
        "- `data_BR_*.csv` (todos os estados e cidades do Brasil)"
      ],
      "metadata": {
        "id": "-dPhO1D1AezI"
      }
    },
    {
      "cell_type": "code",
      "source": [
        "state_filter = get_valid_uf()\n",
        "if state_filter != '*':\n",
        "    city_filter = get_valid_city()\n",
        "else:\n",
        "    city_filter = '*'\n",
        "\n",
        "main(state_filter, city_filter)"
      ],
      "metadata": {
        "id": "bolwnqBbAhxd"
      },
      "execution_count": null,
      "outputs": []
    }
  ]
}